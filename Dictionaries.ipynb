{
 "cells": [
  {
   "cell_type": "code",
   "execution_count": 1,
   "metadata": {},
   "outputs": [
    {
     "name": "stdout",
     "output_type": "stream",
     "text": [
      "<class 'dict'>\n"
     ]
    }
   ],
   "source": [
    "empty_dict = {} # dictionary'leri küme parantezleriyle oluşturuz. key-value\n",
    "print(type(empty_dict))\n",
    "#dictionaries : Unique yani eşsiz, sırasız ve değişmez Key’lere (anahtar -> değer), değişebilir Value’ların maplenmesi \n",
    "#ile oluşan koleksiyondur. Daha farklı bir ifade ile key-value çiftleri şeklinde veriler tutulur, value işaret eden key’ler \n",
    "#değişmez ve esşiz olurlar. JSON veri tipi benzeri şekildedir. Veriler süslü parantez aralarında tutulur. "
   ]
  },
  {
   "cell_type": "code",
   "execution_count": 3,
   "metadata": {},
   "outputs": [],
   "source": [
    " d = {\"actor\":\"amir\",\"animal\":\"cat\",\"earth\":2,\"list\":[23,32,12]}\n",
    "# {  \n",
    "#   \"actor\":\"amir\",\n",
    "#   \"animal\":\"cat\",\n",
    "#   \"earth\":2,\n",
    "#   \"list\":[  \n",
    "#      23,\n",
    "#      32,\n",
    "#      12\n",
    "#   ]\n",
    "#} aslında bir json formatıdır."
   ]
  },
  {
   "cell_type": "code",
   "execution_count": 4,
   "metadata": {},
   "outputs": [
    {
     "name": "stdout",
     "output_type": "stream",
     "text": [
      "amir\n"
     ]
    }
   ],
   "source": [
    "actor = d['actor']\n",
    "print(actor) # dictionary'den veri çağırmak."
   ]
  },
  {
   "cell_type": "code",
   "execution_count": 5,
   "metadata": {},
   "outputs": [
    {
     "name": "stdout",
     "output_type": "stream",
     "text": [
      "[23, 32, 12]\n"
     ]
    }
   ],
   "source": [
    "age = d.get('list')\n",
    "print(age) # dictionary'den liste çağırmak."
   ]
  },
  {
   "cell_type": "code",
   "execution_count": 6,
   "metadata": {},
   "outputs": [
    {
     "name": "stdout",
     "output_type": "stream",
     "text": [
      "NA\n"
     ]
    }
   ],
   "source": [
    "profession  =  d.get('Profession','NA')\n",
    "print(profession) # dictionary'de bulunmayan bir eleman çağırınca NA döndürme."
   ]
  },
  {
   "cell_type": "code",
   "execution_count": 7,
   "metadata": {},
   "outputs": [
    {
     "name": "stdout",
     "output_type": "stream",
     "text": [
      "{'actor': 'amir', 'animal': 'cat', 'earth': 36, 'list': [23, 32, 12]}\n"
     ]
    }
   ],
   "source": [
    "d['earth'] = 36\n",
    "print(d) # dictionary'de bir key değerini değiştirmek."
   ]
  },
  {
   "cell_type": "code",
   "execution_count": 8,
   "metadata": {},
   "outputs": [
    {
     "name": "stdout",
     "output_type": "stream",
     "text": [
      "{'actor': 'amir', 'animal': 'cat', 'earth': 36, 'list': [23, 32, 12], 'Profession': 'Singer'}\n"
     ]
    }
   ],
   "source": [
    "#add a key, val\n",
    "d['Profession'] = 'Singer'\n",
    "print(d)"
   ]
  },
  {
   "cell_type": "code",
   "execution_count": 9,
   "metadata": {},
   "outputs": [
    {
     "name": "stdout",
     "output_type": "stream",
     "text": [
      "True\n"
     ]
    }
   ],
   "source": [
    "print('Profession' in d)# bir key in dictionary içinde olup olmadığını kontrol etmek."
   ]
  },
  {
   "cell_type": "code",
   "execution_count": 10,
   "metadata": {},
   "outputs": [
    {
     "name": "stdout",
     "output_type": "stream",
     "text": [
      "['actor', 'animal', 'earth', 'list', 'Profession']\n",
      "['amir', 'cat', 36, [23, 32, 12], 'Singer']\n"
     ]
    }
   ],
   "source": [
    "#dictionary'deki key ve value'ların listesini almak.\n",
    "print(list(d.keys()))\n",
    "\n",
    "print(list(d.values()))"
   ]
  },
  {
   "cell_type": "code",
   "execution_count": 11,
   "metadata": {},
   "outputs": [],
   "source": [
    "new = dict(Country='Honey Singh', Songs=['Blue Eyes','night party'])"
   ]
  },
  {
   "cell_type": "code",
   "execution_count": 12,
   "metadata": {},
   "outputs": [
    {
     "name": "stdout",
     "output_type": "stream",
     "text": [
      "{'actor': 'amir', 'animal': 'cat', 'earth': 36, 'list': [23, 32, 12], 'Profession': 'Singer', 'Country': 'Honey Singh', 'Songs': ['Blue Eyes', 'night party']}\n"
     ]
    }
   ],
   "source": [
    "d.update(new) # bir dictionary içerisine başka bir dict ile veri eklemek.\n",
    "print(d)"
   ]
  },
  {
   "cell_type": "code",
   "execution_count": 13,
   "metadata": {},
   "outputs": [
    {
     "name": "stdout",
     "output_type": "stream",
     "text": [
      "{'actor': 'amir', 'animal': 'cat', 'earth': 36, 'list': [23, 32, 12], 'Profession': 'Singer', 'Country': 'Honey Singh'}\n"
     ]
    }
   ],
   "source": [
    "del d['Songs'] #dictionary içerisinden veri silmek.\n",
    "print(d)"
   ]
  },
  {
   "cell_type": "code",
   "execution_count": 14,
   "metadata": {},
   "outputs": [
    {
     "name": "stdout",
     "output_type": "stream",
     "text": [
      "6\n"
     ]
    }
   ],
   "source": [
    "print(len(d))# dictionary'denin eleman sayısı."
   ]
  },
  {
   "cell_type": "code",
   "execution_count": 15,
   "metadata": {},
   "outputs": [
    {
     "name": "stdout",
     "output_type": "stream",
     "text": [
      "{'actor': 'amir', 'animal': 'cat', 'earth': 36, 'list': [23, 32, 12], 'Profession': 'Singer', 'Country': 'Honey Singh', 6: ['tarik', 22]}\n"
     ]
    }
   ],
   "source": [
    "d[6] = ['tarik', 22]\n",
    "print(d) "
   ]
  },
  {
   "cell_type": "code",
   "execution_count": 16,
   "metadata": {},
   "outputs": [
    {
     "name": "stdout",
     "output_type": "stream",
     "text": [
      "actor : amir\n",
      "animal : cat\n",
      "earth : 36\n",
      "list : [23, 32, 12]\n",
      "Profession : Singer\n",
      "Country : Honey Singh\n",
      "6 : ['tarik', 22]\n"
     ]
    }
   ],
   "source": [
    "for a,b in d.items():\n",
    "    print(a,\":\",b) # dictionary'deki key value'ları bastırmak."
   ]
  },
  {
   "cell_type": "code",
   "execution_count": null,
   "metadata": {},
   "outputs": [],
   "source": []
  }
 ],
 "metadata": {
  "kernelspec": {
   "display_name": "Python 3",
   "language": "python",
   "name": "python3"
  },
  "language_info": {
   "codemirror_mode": {
    "name": "ipython",
    "version": 3
   },
   "file_extension": ".py",
   "mimetype": "text/x-python",
   "name": "python",
   "nbconvert_exporter": "python",
   "pygments_lexer": "ipython3",
   "version": "3.7.4"
  }
 },
 "nbformat": 4,
 "nbformat_minor": 2
}
