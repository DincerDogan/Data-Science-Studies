{
 "cells": [
  {
   "cell_type": "code",
   "execution_count": 4,
   "metadata": {},
   "outputs": [],
   "source": [
    "def not_hesapla(satır):\n",
    "\n",
    "\n",
    "    satır = satır[:-1]\n",
    "\n",
    "    liste = satır.split(\",\")\n",
    "\n",
    "    isim = liste[0]\n",
    "\n",
    "    not1 = int(liste[1])\n",
    "\n",
    "    not2 = int(liste[2])\n",
    "\n",
    "    not3 = int(liste[3])\n",
    "\n",
    "    son_not = not1 * (3/10) + not2 * (3/10) + not3 * (4/10)\n",
    "\n",
    "    if (son_not >= 90):\n",
    "\n",
    "        harf = \"AA\"\n",
    "    elif (son_not >= 85):\n",
    "        harf = \"BA\"\n",
    "    elif (son_not >= 80):\n",
    "        harf = \"BB\"\n",
    "    elif (son_not >= 75):\n",
    "        harf = \"CB\"\n",
    "    elif (son_not >= 70):\n",
    "        harf = \"CC\"\n",
    "    elif (son_not >= 65):\n",
    "        harf = \"DC\"\n",
    "    elif (son_not >= 60):\n",
    "        harf = \"DD\"\n",
    "    elif (son_not >= 55):\n",
    "        harf = \"FD\"\n",
    "    else:\n",
    "        harf = \"FF\"\n",
    "\n",
    "    return isim + \"------------------> \" + harf + \"\\n\"\n",
    "\n",
    "\n",
    "\n",
    "\n",
    "\n",
    "\n",
    "\n",
    "with open(\"dosya.txt\",\"r\",encoding= \"utf-8\") as file:\n",
    "\n",
    "    eklenecekler_listesi = []\n",
    "\n",
    "    for i in file:\n",
    "\n",
    "        eklenecekler_listesi.append(not_hesapla(i))\n",
    "\n",
    "    with open(\"notlar.txt\",\"w\",encoding=\"utf-8\") as file2:\n",
    "\n",
    "        for i in eklenecekler_listesi:\n",
    "            file2.write(i)"
   ]
  },
  {
   "cell_type": "code",
   "execution_count": null,
   "metadata": {},
   "outputs": [],
   "source": []
  }
 ],
 "metadata": {
  "kernelspec": {
   "display_name": "Python 3",
   "language": "python",
   "name": "python3"
  },
  "language_info": {
   "codemirror_mode": {
    "name": "ipython",
    "version": 3
   },
   "file_extension": ".py",
   "mimetype": "text/x-python",
   "name": "python",
   "nbconvert_exporter": "python",
   "pygments_lexer": "ipython3",
   "version": "3.7.4"
  }
 },
 "nbformat": 4,
 "nbformat_minor": 2
}
