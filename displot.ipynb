{
 "cells": [
  {
   "cell_type": "code",
   "execution_count": 1,
   "metadata": {},
   "outputs": [],
   "source": [
    "import numpy as np\n",
    "import pandas as pd\n",
    "import matplotlib as mpl\n",
    "import matplotlib.pyplot as plt\n",
    "import seaborn as sns \n",
    "import warnings \n",
    "warnings.filterwarnings(\"ignore\")\n",
    "%matplotlib inline "
   ]
  },
  {
   "cell_type": "markdown",
   "metadata": {},
   "source": [
    "# distplot() distribution plot"
   ]
  },
  {
   "cell_type": "code",
   "execution_count": 11,
   "metadata": {
    "scrolled": false
   },
   "outputs": [],
   "source": [
    "e=pd.read_csv(\"./crypto_data/bitcoin_price.csv\")"
   ]
  },
  {
   "cell_type": "code",
   "execution_count": 12,
   "metadata": {},
   "outputs": [
    {
     "data": {
      "text/html": [
       "<div>\n",
       "<style scoped>\n",
       "    .dataframe tbody tr th:only-of-type {\n",
       "        vertical-align: middle;\n",
       "    }\n",
       "\n",
       "    .dataframe tbody tr th {\n",
       "        vertical-align: top;\n",
       "    }\n",
       "\n",
       "    .dataframe thead th {\n",
       "        text-align: right;\n",
       "    }\n",
       "</style>\n",
       "<table border=\"1\" class=\"dataframe\">\n",
       "  <thead>\n",
       "    <tr style=\"text-align: right;\">\n",
       "      <th></th>\n",
       "      <th>Date</th>\n",
       "      <th>Open</th>\n",
       "      <th>High</th>\n",
       "      <th>Low</th>\n",
       "      <th>Close</th>\n",
       "      <th>Volume</th>\n",
       "      <th>Market Cap</th>\n",
       "    </tr>\n",
       "  </thead>\n",
       "  <tbody>\n",
       "    <tr>\n",
       "      <td>0</td>\n",
       "      <td>Nov 07, 2017</td>\n",
       "      <td>7023.10</td>\n",
       "      <td>7253.32</td>\n",
       "      <td>7023.10</td>\n",
       "      <td>7144.38</td>\n",
       "      <td>2,326,340,000</td>\n",
       "      <td>117,056,000,000</td>\n",
       "    </tr>\n",
       "    <tr>\n",
       "      <td>1</td>\n",
       "      <td>Nov 06, 2017</td>\n",
       "      <td>7403.22</td>\n",
       "      <td>7445.77</td>\n",
       "      <td>7007.31</td>\n",
       "      <td>7022.76</td>\n",
       "      <td>3,111,900,000</td>\n",
       "      <td>123,379,000,000</td>\n",
       "    </tr>\n",
       "    <tr>\n",
       "      <td>2</td>\n",
       "      <td>Nov 05, 2017</td>\n",
       "      <td>7404.52</td>\n",
       "      <td>7617.48</td>\n",
       "      <td>7333.19</td>\n",
       "      <td>7407.41</td>\n",
       "      <td>2,380,410,000</td>\n",
       "      <td>123,388,000,000</td>\n",
       "    </tr>\n",
       "    <tr>\n",
       "      <td>3</td>\n",
       "      <td>Nov 04, 2017</td>\n",
       "      <td>7164.48</td>\n",
       "      <td>7492.86</td>\n",
       "      <td>7031.28</td>\n",
       "      <td>7379.95</td>\n",
       "      <td>2,483,800,000</td>\n",
       "      <td>119,376,000,000</td>\n",
       "    </tr>\n",
       "    <tr>\n",
       "      <td>4</td>\n",
       "      <td>Nov 03, 2017</td>\n",
       "      <td>7087.53</td>\n",
       "      <td>7461.29</td>\n",
       "      <td>7002.94</td>\n",
       "      <td>7207.76</td>\n",
       "      <td>3,369,860,000</td>\n",
       "      <td>118,084,000,000</td>\n",
       "    </tr>\n",
       "    <tr>\n",
       "      <td>...</td>\n",
       "      <td>...</td>\n",
       "      <td>...</td>\n",
       "      <td>...</td>\n",
       "      <td>...</td>\n",
       "      <td>...</td>\n",
       "      <td>...</td>\n",
       "      <td>...</td>\n",
       "    </tr>\n",
       "    <tr>\n",
       "      <td>1650</td>\n",
       "      <td>May 02, 2013</td>\n",
       "      <td>116.38</td>\n",
       "      <td>125.60</td>\n",
       "      <td>92.28</td>\n",
       "      <td>105.21</td>\n",
       "      <td>-</td>\n",
       "      <td>1,292,190,000</td>\n",
       "    </tr>\n",
       "    <tr>\n",
       "      <td>1651</td>\n",
       "      <td>May 01, 2013</td>\n",
       "      <td>139.00</td>\n",
       "      <td>139.89</td>\n",
       "      <td>107.72</td>\n",
       "      <td>116.99</td>\n",
       "      <td>-</td>\n",
       "      <td>1,542,820,000</td>\n",
       "    </tr>\n",
       "    <tr>\n",
       "      <td>1652</td>\n",
       "      <td>Apr 30, 2013</td>\n",
       "      <td>144.00</td>\n",
       "      <td>146.93</td>\n",
       "      <td>134.05</td>\n",
       "      <td>139.00</td>\n",
       "      <td>-</td>\n",
       "      <td>1,597,780,000</td>\n",
       "    </tr>\n",
       "    <tr>\n",
       "      <td>1653</td>\n",
       "      <td>Apr 29, 2013</td>\n",
       "      <td>134.44</td>\n",
       "      <td>147.49</td>\n",
       "      <td>134.00</td>\n",
       "      <td>144.54</td>\n",
       "      <td>-</td>\n",
       "      <td>1,491,160,000</td>\n",
       "    </tr>\n",
       "    <tr>\n",
       "      <td>1654</td>\n",
       "      <td>Apr 28, 2013</td>\n",
       "      <td>135.30</td>\n",
       "      <td>135.98</td>\n",
       "      <td>132.10</td>\n",
       "      <td>134.21</td>\n",
       "      <td>-</td>\n",
       "      <td>1,500,520,000</td>\n",
       "    </tr>\n",
       "  </tbody>\n",
       "</table>\n",
       "<p>1655 rows × 7 columns</p>\n",
       "</div>"
      ],
      "text/plain": [
       "              Date     Open     High      Low    Close         Volume  \\\n",
       "0     Nov 07, 2017  7023.10  7253.32  7023.10  7144.38  2,326,340,000   \n",
       "1     Nov 06, 2017  7403.22  7445.77  7007.31  7022.76  3,111,900,000   \n",
       "2     Nov 05, 2017  7404.52  7617.48  7333.19  7407.41  2,380,410,000   \n",
       "3     Nov 04, 2017  7164.48  7492.86  7031.28  7379.95  2,483,800,000   \n",
       "4     Nov 03, 2017  7087.53  7461.29  7002.94  7207.76  3,369,860,000   \n",
       "...            ...      ...      ...      ...      ...            ...   \n",
       "1650  May 02, 2013   116.38   125.60    92.28   105.21              -   \n",
       "1651  May 01, 2013   139.00   139.89   107.72   116.99              -   \n",
       "1652  Apr 30, 2013   144.00   146.93   134.05   139.00              -   \n",
       "1653  Apr 29, 2013   134.44   147.49   134.00   144.54              -   \n",
       "1654  Apr 28, 2013   135.30   135.98   132.10   134.21              -   \n",
       "\n",
       "           Market Cap  \n",
       "0     117,056,000,000  \n",
       "1     123,379,000,000  \n",
       "2     123,388,000,000  \n",
       "3     119,376,000,000  \n",
       "4     118,084,000,000  \n",
       "...               ...  \n",
       "1650    1,292,190,000  \n",
       "1651    1,542,820,000  \n",
       "1652    1,597,780,000  \n",
       "1653    1,491,160,000  \n",
       "1654    1,500,520,000  \n",
       "\n",
       "[1655 rows x 7 columns]"
      ]
     },
     "execution_count": 12,
     "metadata": {},
     "output_type": "execute_result"
    }
   ],
   "source": [
    "e"
   ]
  },
  {
   "cell_type": "code",
   "execution_count": 13,
   "metadata": {},
   "outputs": [
    {
     "data": {
      "text/plain": [
       "<matplotlib.axes._subplots.AxesSubplot at 0x19f931d6ec8>"
      ]
     },
     "execution_count": 13,
     "metadata": {},
     "output_type": "execute_result"
    },
    {
     "data": {
      "image/png": "[encoded data removed]",
      "text/plain": [
       "<Figure size 432x288 with 1 Axes>"
      ]
     },
     "metadata": {
      "needs_background": "light"
     },
     "output_type": "display_data"
    }
   ],
   "source": [
    "sns.distplot(e[\"Open\"])"
   ]
  },
  {
   "cell_type": "code",
   "execution_count": null,
   "metadata": {},
   "outputs": [],
   "source": []
  }
 ],
 "metadata": {
  "kernelspec": {
   "display_name": "Python 3",
   "language": "python",
   "name": "python3"
  },
  "language_info": {
   "codemirror_mode": {
    "name": "ipython",
    "version": 3
   },
   "file_extension": ".py",
   "mimetype": "text/x-python",
   "name": "python",
   "nbconvert_exporter": "python",
   "pygments_lexer": "ipython3",
   "version": "3.7.4"
  }
 },
 "nbformat": 4,
 "nbformat_minor": 2
}
